{
 "cells": [
  {
   "cell_type": "code",
   "execution_count": null,
   "metadata": {
    "_cell_guid": "d018a79d-a8da-4dab-b289-afd411c89231",
    "_uuid": "eb9b1cb179aae5859c84388844468c5225567241"
   },
   "outputs": [],
   "source": [
    "import pandas as pd \n",
    "import numpy as np\n",
    "import seaborn as sns\n",
    "import matplotlib.pyplot as plt\n",
    "from matplotlib import rcParams\n",
    "import re\n",
    "\n",
    "import pandas as pd \n",
    "import numpy as np\n",
    "import seaborn as sns\n",
    "import matplotlib.pyplot as plt\n",
    "from matplotlib import rcParams\n",
    "import re\n",
    "from sklearn.preprocessing import StandardScaler\n",
    "\n",
    "%matplotlib inline\n",
    "\n",
    "from sklearn.linear_model import LogisticRegression\n",
    "from sklearn.svm import SVC, LinearSVC\n",
    "from sklearn.neighbors import KNeighborsClassifier\n",
    "from sklearn.naive_bayes import GaussianNB\n",
    "from sklearn.linear_model import Perceptron\n",
    "from sklearn.linear_model import SGDClassifier\n",
    "from sklearn.tree import DecisionTreeClassifier\n",
    "from sklearn.linear_model import LinearRegression\n",
    "\n",
    "from keras.models import Sequential\n",
    "from keras.layers import Dense, Activation, Dropout\n",
    "import keras\n",
    "from tensorflow.keras.optimizers import Adam\n",
    "from keras.optimizers import SGD\n",
    "import graphviz\n",
    "!pip3 install ann_visualizer\n",
    "from ann_visualizer.visualize import ann_viz\n",
    "\n",
    "from sklearn.metrics import r2_score\n",
    "from sklearn.metrics import roc_curve\n",
    "from sklearn.metrics import auc\n",
    "from sklearn.metrics import precision_recall_curve\n",
    "from sklearn import metrics\n",
    "\n",
    "\n",
    "rcParams['figure.figsize'] = 10,8\n",
    "\n",
    "\n",
    "%matplotlib inline\n",
    "\n",
    "rcParams['figure.figsize'] = 10,8"
   ]
  },
  {
   "cell_type": "code",
   "execution_count": null,
   "metadata": {
    "_cell_guid": "61a77a63-b9ed-455b-b3d2-fde823676ed8",
    "_uuid": "688fd0574f7f65b0fdaa5774cf6fc7626bd24d01"
   },
   "outputs": [],
   "source": [
    "df_train = pd.read_csv(\"train.csv\")\n",
    "df_test = pd.read_csv(\"test.csv\")"
   ]
  },
  {
   "cell_type": "code",
   "execution_count": null,
   "metadata": {
    "_cell_guid": "869cbf05-810c-44ff-b7ef-456d375dfecc",
    "_uuid": "bae6dabd016b97a9d9dc888514da0a7e96ac64a5"
   },
   "outputs": [],
   "source": [
    "print(df_train.info())\n",
    "print(df_test.info())"
   ]
  },
  {
   "cell_type": "code",
   "execution_count": null,
   "metadata": {
    "_cell_guid": "fea21fe3-c16c-42c2-bd1f-6cc635388698",
    "_uuid": "5dee2b72c3008163bc058add517bbdb060ff5eef",
    "scrolled": false
   },
   "outputs": [],
   "source": [
    "df_train.describe()"
   ]
  },
  {
   "cell_type": "code",
   "execution_count": null,
   "metadata": {
    "_cell_guid": "f66ac581-59c6-4c57-be3f-e9ceea2babe2",
    "_uuid": "ce135284f5dfa4f04c60a25a74680fac870bdf58",
    "scrolled": true
   },
   "outputs": [],
   "source": [
    "print(df_train.head())"
   ]
  },
  {
   "cell_type": "code",
   "execution_count": null,
   "metadata": {
    "_cell_guid": "9252092d-97c6-4d06-a607-da8e728d5a09",
    "_uuid": "457f672a2823b533dd98e04f764e1fe4d3017372"
   },
   "outputs": [],
   "source": [
    "df_train['Title'] = df_train.Name.apply(lambda x: re.search(' ([A-Z][a-z]+)\\.', x).group(1))\n",
    "\n",
    "plt.figure(figsize=(12,5))\n",
    "\n",
    "sns.countplot(x='Title', data=df_train, palette=\"hls\")\n",
    "plt.xlabel(\"Title\", fontsize=16) #seting the xtitle and size\n",
    "plt.ylabel(\"Count\", fontsize=16) # Seting the ytitle and size\n",
    "plt.title(\"Title Name Count\", fontsize=20) \n",
    "plt.xticks(rotation=45)\n",
    "plt.show()"
   ]
  },
  {
   "cell_type": "code",
   "execution_count": null,
   "metadata": {
    "_cell_guid": "dae2f74f-ae05-4ef2-9a1b-27eeea339db1",
    "_uuid": "da70c5433f031f1437ea4fdb9b612945d02f0e7e"
   },
   "outputs": [],
   "source": [
    "df_test['Title'] = df_test.Name.apply(lambda x: re.search(' ([A-Z][a-z]+)\\.', x).group(1))"
   ]
  },
  {
   "cell_type": "code",
   "execution_count": null,
   "metadata": {
    "_cell_guid": "29c83a0e-0c30-41c1-87fe-9a417603eed0",
    "_kg_hide-input": false,
    "_uuid": "72e1ca619c6aba4c333faa33471b6e1bd2ed8ed0"
   },
   "outputs": [],
   "source": [
    "Title_Dictionary = {\n",
    "        \"Capt\":       \"Officer\",\n",
    "        \"Col\":        \"Officer\",\n",
    "        \"Major\":      \"Officer\",\n",
    "        \"Dr\":         \"Officer\",\n",
    "        \"Rev\":        \"Officer\",\n",
    "        \"Jonkheer\":   \"Royalty\",\n",
    "        \"Don\":        \"Royalty\",\n",
    "        \"Sir\" :       \"Royalty\",\n",
    "        \"the Countess\":\"Royalty\",\n",
    "        \"Dona\":       \"Royalty\",\n",
    "        \"Lady\" :      \"Royalty\",\n",
    "        \"Mme\":        \"Mrs\",\n",
    "        \"Ms\":         \"Mrs\",\n",
    "        \"Mrs\" :       \"Mrs\",\n",
    "        \"Mlle\":       \"Miss\",\n",
    "        \"Miss\" :      \"Miss\",\n",
    "        \"Mr\" :        \"Mr\",\n",
    "        \"Master\" :    \"Master\"\n",
    "                   }\n",
    "    \n",
    "df_train['Title'] = df_train.Title.map(Title_Dictionary)\n",
    "df_test['Title'] = df_test.Title.map(Title_Dictionary)"
   ]
  },
  {
   "cell_type": "code",
   "execution_count": null,
   "metadata": {
    "_cell_guid": "dbb86411-81f9-4230-aa48-08c50150bb7e",
    "_kg_hide-input": true,
    "_uuid": "10b11ef5b4e3581e66762649880049637824fa88"
   },
   "outputs": [],
   "source": [
    "print(\"Chances to survive based on titles: \") \n",
    "print(df_train.groupby(\"Title\")[\"Survived\"].mean())\n",
    "\n",
    "plt.figure(figsize=(12,5))\n",
    "\n",
    "sns.countplot(x='Title', data=df_train, palette=\"hls\",\n",
    "              hue=\"Survived\")\n",
    "plt.xlabel(\"Titles\", fontsize=16)\n",
    "plt.ylabel(\"Count\", fontsize=16)\n",
    "plt.title(\"Title Grouped Count\", fontsize=20)\n",
    "plt.xticks(rotation=45)\n",
    "plt.show()"
   ]
  },
  {
   "cell_type": "code",
   "execution_count": null,
   "metadata": {
    "_cell_guid": "2df4f1ce-2767-4629-b023-0ec998fe91fd",
    "_kg_hide-input": true,
    "_uuid": "4d0dd241125f42e477f9d9a9212e9bd2baf23411"
   },
   "outputs": [],
   "source": [
    "age_high_zero_died = df_train[(df_train[\"Age\"] > 0) & \n",
    "                              (df_train[\"Survived\"] == 0)]\n",
    "age_high_zero_surv = df_train[(df_train[\"Age\"] > 0) & \n",
    "                              (df_train[\"Survived\"] == 1)]\n",
    "\n",
    "plt.figure(figsize=(10,5))\n",
    "\n",
    "sns.distplot(age_high_zero_surv[\"Age\"], bins=24, color='g')\n",
    "sns.distplot(age_high_zero_died[\"Age\"], bins=24, color='r')\n",
    "plt.title(\"Distribuition and density by Age\",fontsize=20)\n",
    "plt.xlabel(\"Age\",fontsize=15)\n",
    "plt.ylabel(\"Distribuition Died and Survived\",fontsize=15)\n",
    "plt.show()"
   ]
  },
  {
   "cell_type": "code",
   "execution_count": null,
   "metadata": {
    "_cell_guid": "81eb2ace-d258-4310-9867-9a8fb23f1070",
    "_uuid": "94f5cabb66d7825afa9ddfaa84de11ac5f72b009"
   },
   "outputs": [],
   "source": [
    "age_group = df_train.groupby([\"Sex\",\"Pclass\",\"Title\"])[\"Age\"]\n",
    "\n",
    "print(age_group.median())"
   ]
  },
  {
   "cell_type": "code",
   "execution_count": null,
   "metadata": {
    "_cell_guid": "87ba3b6f-9a4c-4d0d-b1f6-2cf0ef45311d",
    "_uuid": "3af4bfdefd77e3099be92daa789455fc0a34e345"
   },
   "outputs": [],
   "source": [
    "df_train.loc[df_train.Age.isnull(), 'Age'] = df_train.groupby(['Sex','Pclass','Title']).Age.transform('median')"
   ]
  },
  {
   "cell_type": "code",
   "execution_count": null,
   "metadata": {
    "_cell_guid": "f8adc6e3-3103-4dcf-b861-69c636d1ac9a",
    "_uuid": "0ae11c621c4b36d52f599390e68f7836d3374d03"
   },
   "outputs": [],
   "source": [
    "plt.figure(figsize=(12,5))\n",
    "\n",
    "sns.distplot(df_train[\"Age\"], bins=24)\n",
    "plt.title(\"Distribuition and density by Age\")\n",
    "plt.xlabel(\"Age\")\n",
    "plt.show()"
   ]
  },
  {
   "cell_type": "code",
   "execution_count": null,
   "metadata": {
    "_cell_guid": "a04c3054-0ee4-47cc-a7a7-5599d8f28669",
    "_uuid": "b70b8c6d33c0b266004929debe8d5993e7114c83"
   },
   "outputs": [],
   "source": [
    "plt.figure(figsize=(12,5))\n",
    "\n",
    "g = sns.FacetGrid(df_train, col='Survived',size=5)\n",
    "g = g.map(sns.distplot, \"Age\")\n",
    "plt.show()"
   ]
  },
  {
   "cell_type": "code",
   "execution_count": null,
   "metadata": {
    "_cell_guid": "09c0ec2f-4271-4f72-a2ef-4ea407752751",
    "_uuid": "525d53d8b8adc49d04c6db8a9ac778427f28a086"
   },
   "outputs": [],
   "source": [
    "interval = (0, 5, 12, 18, 25, 35, 60, 120) \n",
    "\n",
    "cats = ['babies', 'Children', 'Teen', 'Student', 'Young', 'Adult', 'Senior']\n",
    "\n",
    "df_train[\"Age_cat\"] = pd.cut(df_train.Age, interval, labels=cats)\n",
    "\n",
    "df_train[\"Age_cat\"].head()"
   ]
  },
  {
   "cell_type": "code",
   "execution_count": null,
   "metadata": {
    "_cell_guid": "52abbfa0-8ba6-4b4e-998e-7d7f34e7491f",
    "_uuid": "928b946783769488edba7961a728a4d265fe2721",
    "scrolled": false
   },
   "outputs": [],
   "source": [
    "interval = (0, 5, 12, 18, 25, 35, 60, 120)\n",
    "\n",
    "cats = ['babies', 'Children', 'Teen', 'Student', 'Young', 'Adult', 'Senior']\n",
    "\n",
    "df_test[\"Age_cat\"] = pd.cut(df_test.Age, interval, labels=cats)"
   ]
  },
  {
   "cell_type": "code",
   "execution_count": null,
   "metadata": {
    "_cell_guid": "a65eb046-e49d-4be6-bda7-c69364f69eb9",
    "_uuid": "3e7f681f7f7fb285da11801cd8a7896b7e8d7a5b"
   },
   "outputs": [],
   "source": [
    "print(pd.crosstab(df_train.Age_cat, df_train.Survived))\n",
    "\n",
    "plt.figure(figsize=(12,10))\n",
    "\n",
    "plt.subplot(2,1,1)\n",
    "sns.countplot(\"Age_cat\",data=df_train,hue=\"Survived\", palette=\"hls\")\n",
    "plt.ylabel(\"Count\", fontsize=18)\n",
    "plt.xlabel(\"Age Categories\", fontsize=18)\n",
    "plt.title(\"Age Distribution \", fontsize=20)\n",
    "\n",
    "plt.subplot(2,1,2)\n",
    "sns.swarmplot(x='Age_cat',y=\"Fare\",data=df_train,\n",
    "              hue=\"Survived\", palette=\"hls\", )\n",
    "plt.ylabel(\"Fare Distribution\", fontsize=18)\n",
    "plt.xlabel(\"Age Categories\", fontsize=18)\n",
    "plt.title(\"Fare Distribution by Age Categories \", fontsize=20)\n",
    "\n",
    "plt.subplots_adjust(hspace = 0.5, top = 0.9)\n",
    "\n",
    "plt.show()"
   ]
  },
  {
   "cell_type": "code",
   "execution_count": null,
   "metadata": {},
   "outputs": [],
   "source": [
    "Age_fare = ['Pclass', 'Age_cat']\n",
    "\n",
    "cm = sns.light_palette(\"green\", as_cmap=True)\n",
    "pd.crosstab(df_train[Age_fare[0]], df_train[Age_fare[1]], \n",
    "            values=df_train['Fare'], aggfunc=['mean']).style.background_gradient(cmap = cm)\n"
   ]
  },
  {
   "cell_type": "code",
   "execution_count": null,
   "metadata": {
    "_cell_guid": "adb09853-725a-4c34-99e4-581f5fee8635",
    "_uuid": "5b598cf71c186dab9547fa21bd31184e3f64ed90",
    "scrolled": false
   },
   "outputs": [],
   "source": [
    "plt.figure(figsize=(12,5))\n",
    "\n",
    "sns.distplot(df_train[df_train.Survived == 0][\"Fare\"], \n",
    "             bins=50, color='r')\n",
    "sns.distplot(df_train[df_train.Survived == 1][\"Fare\"], \n",
    "             bins=50, color='g')\n",
    "plt.title(\"Fare Distribuition by Survived\", fontsize=20)\n",
    "plt.xlabel(\"Fare\", fontsize=15)\n",
    "plt.ylabel(\"Density\",fontsize=15)\n",
    "plt.show()"
   ]
  },
  {
   "cell_type": "code",
   "execution_count": null,
   "metadata": {
    "_cell_guid": "0f80bee7-c523-4eae-bad1-3267413b8f71",
    "_uuid": "9f997138277822312c4ba718313d16ede922787e"
   },
   "outputs": [],
   "source": [
    "df_train.Fare = df_train.Fare.fillna(-0.5)\n",
    "\n",
    "quant = (-1, 0, 8, 15, 31, 600)\n",
    "\n",
    "label_quants = ['NoInf', 'quart_1', 'quart_2', 'quart_3', 'quart_4']\n",
    "\n",
    "df_train[\"Fare_cat\"] = pd.cut(df_train.Fare, quant, labels=label_quants)\n",
    "\n",
    "print(pd.crosstab(df_train.Fare_cat, df_train.Survived))\n",
    "\n",
    "plt.figure(figsize=(12,5))\n",
    "\n",
    "sns.countplot(x=\"Fare_cat\", hue=\"Survived\", data=df_train, palette=\"hls\")\n",
    "plt.title(\"Count of survived x Fare expending\",fontsize=20)\n",
    "plt.xlabel(\"Fare Cat\",fontsize=15)\n",
    "plt.ylabel(\"Count\",fontsize=15)\n",
    "\n",
    "plt.show()"
   ]
  },
  {
   "cell_type": "code",
   "execution_count": null,
   "metadata": {
    "_cell_guid": "a5792df7-20c7-4338-b953-1a2ff0c1994a",
    "_uuid": "ac340253f27b7aa74834d0b9973aa5ddc0410750"
   },
   "outputs": [],
   "source": [
    "df_test.Fare = df_test.Fare.fillna(-0.5)\n",
    "\n",
    "quant = (-1, 0, 8, 15, 31, 1000)\n",
    "label_quants = ['NoInf', 'quart_1', 'quart_2', 'quart_3', 'quart_4']\n",
    "\n",
    "df_test[\"Fare_cat\"] = pd.cut(df_test.Fare, quant, labels=label_quants)"
   ]
  },
  {
   "cell_type": "code",
   "execution_count": null,
   "metadata": {
    "_cell_guid": "5fc23992-efec-4b03-9b76-e7cb271866a0",
    "_kg_hide-input": false,
    "_kg_hide-output": false,
    "_uuid": "3b0759682656ce4b4ca00919385353090e9ef207"
   },
   "outputs": [],
   "source": [
    "del df_train[\"Fare\"]\n",
    "del df_train[\"Ticket\"]\n",
    "del df_train[\"Age\"]\n",
    "del df_train[\"Cabin\"]\n",
    "del df_train[\"Name\"]\n",
    "\n",
    "del df_test[\"Fare\"]\n",
    "del df_test[\"Ticket\"]\n",
    "del df_test[\"Age\"]\n",
    "del df_test[\"Cabin\"]\n",
    "del df_test[\"Name\"]"
   ]
  },
  {
   "cell_type": "code",
   "execution_count": null,
   "metadata": {
    "_cell_guid": "5fc23992-efec-4b03-9b76-e7cb271866a0",
    "_kg_hide-input": false,
    "_kg_hide-output": false,
    "_uuid": "3b0759682656ce4b4ca00919385353090e9ef207"
   },
   "outputs": [],
   "source": [
    "print(pd.crosstab(df_train.Pclass, df_train.Embarked))\n",
    "\n",
    "plt.figure(figsize=(12,5))\n",
    "\n",
    "sns.countplot(x=\"Embarked\", data=df_train, hue=\"Pclass\",palette=\"hls\")\n",
    "plt.title('Embarked x Pclass Count', fontsize=20)\n",
    "plt.xlabel('Embarked with PClass',fontsize=17)\n",
    "plt.ylabel('Count', fontsize=17)\n",
    "\n",
    "plt.show()"
   ]
  },
  {
   "cell_type": "code",
   "execution_count": null,
   "metadata": {
    "_cell_guid": "5fc23992-efec-4b03-9b76-e7cb271866a0",
    "_kg_hide-input": false,
    "_kg_hide-output": false,
    "_uuid": "3b0759682656ce4b4ca00919385353090e9ef207"
   },
   "outputs": [],
   "source": [
    "df_train[\"Embarked\"] = df_train[\"Embarked\"].fillna('S')\n",
    "\n",
    "print(pd.crosstab(df_train.Survived, df_train.Embarked))\n",
    "\n",
    "plt.figure(figsize=(12,5))\n",
    "\n",
    "sns.countplot(x=\"Embarked\", data=df_train, hue=\"Survived\",palette=\"hls\")\n",
    "plt.title('Class Distribuition by survived or not',fontsize=20)\n",
    "plt.xlabel('Embarked',fontsize=17)\n",
    "plt.ylabel('Count', fontsize=17)\n",
    "\n",
    "plt.show()\n",
    "\n",
    "print(pd.crosstab(df_train.Survived, df_train.Pclass))\n",
    "\n",
    "plt.figure(figsize=(12,5))\n",
    "\n",
    "sns.countplot(x=\"Pclass\", data=df_train, hue=\"Survived\",palette=\"hls\")\n",
    "plt.xlabel('PClass',fontsize=17)\n",
    "plt.ylabel('Count', fontsize=17)\n",
    "plt.title('Class Distribuition by Survived or not', fontsize=20)\n",
    "\n",
    "plt.show()"
   ]
  },
  {
   "cell_type": "code",
   "execution_count": null,
   "metadata": {
    "_cell_guid": "5fc23992-efec-4b03-9b76-e7cb271866a0",
    "_kg_hide-input": false,
    "_kg_hide-output": false,
    "_uuid": "3b0759682656ce4b4ca00919385353090e9ef207",
    "scrolled": false
   },
   "outputs": [],
   "source": [
    "g = sns.factorplot(x=\"SibSp\",y=\"Survived\",data=df_train,\n",
    "                   kind=\"bar\", height = 5, aspect= 1.6, palette = \"hls\")\n",
    "g.set_ylabels(\"Survival Probability\", fontsize=15)\n",
    "g.set_xlabels(\"SibSp\", fontsize=15)\n",
    "\n",
    "plt.show()\n",
    "\n",
    "g  = sns.factorplot(x=\"Parch\",y=\"Survived\",data=df_train, kind=\"bar\", size = 6,palette = \"hls\")\n",
    "\n",
    "g = g.set_ylabels(\"Survival Probability\")\n",
    "g.set_xlabels(\"Parch\", fontsize=15)\n",
    "\n",
    "plt.show()"
   ]
  },
  {
   "cell_type": "code",
   "execution_count": null,
   "metadata": {
    "_cell_guid": "5fc23992-efec-4b03-9b76-e7cb271866a0",
    "_kg_hide-input": false,
    "_kg_hide-output": false,
    "_uuid": "3b0759682656ce4b4ca00919385353090e9ef207",
    "scrolled": false
   },
   "outputs": [],
   "source": [
    "df_train[\"FSize\"] = df_train[\"Parch\"] + df_train[\"SibSp\"] + 1\n",
    "\n",
    "df_test[\"FSize\"] = df_test[\"Parch\"] + df_test[\"SibSp\"] + 1\n",
    "\n",
    "print(pd.crosstab(df_train.FSize, df_train.Survived))\n",
    "sns.factorplot(x=\"FSize\",y=\"Survived\", data=df_train, kind=\"bar\",size=6, aspect=1.6)\n",
    "plt.show()\n",
    "\n",
    "del df_train[\"SibSp\"]\n",
    "del df_train[\"Parch\"]\n",
    "\n",
    "del df_test[\"SibSp\"]\n",
    "del df_test[\"Parch\"]"
   ]
  },
  {
   "cell_type": "code",
   "execution_count": null,
   "metadata": {
    "_cell_guid": "5fc23992-efec-4b03-9b76-e7cb271866a0",
    "_kg_hide-input": false,
    "_kg_hide-output": false,
    "_uuid": "3b0759682656ce4b4ca00919385353090e9ef207"
   },
   "outputs": [],
   "source": [
    "print(pd.crosstab(df_train.Survived, df_train.Sex))\n",
    "\n",
    "plt.figure(figsize=(12,5))\n",
    "sns.countplot(x=\"Sex\", data=df_train, hue=\"Survived\",palette=\"hls\")\n",
    "plt.title('Sex Distribution by Survived or not', fontsize=20)\n",
    "plt.xlabel('Sex Distribution',fontsize=17)\n",
    "plt.ylabel('Count', fontsize=17)\n",
    "\n",
    "plt.show()"
   ]
  },
  {
   "cell_type": "code",
   "execution_count": null,
   "metadata": {
    "_cell_guid": "9b349042-d45c-4546-8ebb-1e1ff7ea32a1",
    "_uuid": "62c29ef25da65e21e10bc3aece1b89210cc93725"
   },
   "outputs": [],
   "source": [
    "print(\"Total of Survived or not: \")\n",
    "print(df_train.groupby(\"Survived\")[\"PassengerId\"].count())\n",
    "\n",
    "plt.figure(figsize=(12,5))\n",
    "\n",
    "sns.countplot(x=\"Survived\", data=df_train,palette=\"hls\")\n",
    "plt.title('Total Distribuition by survived or not', fontsize=22)\n",
    "plt.xlabel('Target Distribuition', fontsize=18)\n",
    "plt.ylabel('Count', fontsize=18)\n",
    "\n",
    "plt.show()"
   ]
  },
  {
   "cell_type": "code",
   "execution_count": null,
   "metadata": {
    "_cell_guid": "090c0116-c368-45bd-8853-549d732bf10d",
    "_uuid": "f4d484d256fdeadd6efcf6808efa5b67a1f4c318",
    "scrolled": true
   },
   "outputs": [],
   "source": [
    "df_train.head()"
   ]
  },
  {
   "cell_type": "code",
   "execution_count": null,
   "metadata": {
    "_cell_guid": "93854fb1-9a60-412d-8eca-4c3e8631a148",
    "_uuid": "9a83734eca0f33ff1a356d2d3e54ef8acc0f1992"
   },
   "outputs": [],
   "source": [
    "df_train = pd.get_dummies(df_train, columns=[\"Sex\",\"Embarked\",\"Age_cat\",\"Fare_cat\",\"Title\"],\\\n",
    "                          prefix=[\"Sex\",\"Emb\",\"Age\",\"Fare\",\"Prefix\"], drop_first=True)\n",
    "\n",
    "df_test = pd.get_dummies(df_test, columns=[\"Sex\",\"Embarked\",\"Age_cat\",\"Fare_cat\",\"Title\"],\\\n",
    "                         prefix=[\"Sex\",\"Emb\",\"Age\",\"Fare\",\"Prefix\"], drop_first=True)\n",
    "\n",
    "plt.figure(figsize=(15,12))\n",
    "plt.title('Correlation of Features for Train Set')\n",
    "sns.heatmap(df_train.astype(float).corr(),vmax=1.0,  annot=True)\n",
    "plt.show()"
   ]
  },
  {
   "cell_type": "code",
   "execution_count": null,
   "metadata": {
    "_cell_guid": "5eb9a2b2-96b6-4da9-9f5c-c76e661daf78",
    "_uuid": "065a617bcfd50e11f9f4eb5832163def96111ca2"
   },
   "outputs": [],
   "source": [
    "train = df_train.drop([\"Survived\",\"PassengerId\"],axis=1)\n",
    "train_ = df_train[\"Survived\"]\n",
    "\n",
    "test_ = df_test.drop([\"PassengerId\"],axis=1)\n",
    "\n",
    "X_train = train.values\n",
    "y_train = train_.values\n",
    "\n",
    "X_test = test_.values\n",
    "X_test = X_test.astype(np.float64, copy=False)\n",
    "\n",
    "sc = StandardScaler()\n",
    "X_train = sc.fit_transform(X_train)\n",
    "X_test = sc.fit_transform(X_test)\n",
    "\n",
    "df_submission = pd.read_csv(\"gender_submission.csv\")\n",
    "submission_ = df_submission[\"Survived\"]\n",
    "Y_test = submission_.values"
   ]
  },
  {
   "cell_type": "code",
   "execution_count": null,
   "metadata": {
    "_cell_guid": "33676b33-5811-4b0a-aa63-eeb79182c4f6",
    "_uuid": "2a89b78f76ab49ed08dc18783c859f8ad9d027e1"
   },
   "outputs": [],
   "source": [
    "# Decision Tree\n",
    "decision_tree = DecisionTreeClassifier()\n",
    "decision_tree.fit(X_train, y_train)\n",
    "Y_pred = decision_tree.predict(X_test)\n",
    "acc_decision_tree = round(decision_tree.score(X_train, y_train) * 100, 2)"
   ]
  },
  {
   "cell_type": "code",
   "execution_count": null,
   "metadata": {
    "_cell_guid": "33676b33-5811-4b0a-aa63-eeb79182c4f6",
    "_uuid": "2a89b78f76ab49ed08dc18783c859f8ad9d027e1"
   },
   "outputs": [],
   "source": [
    "# Gaussian Naive Bayes\n",
    "gaussian = GaussianNB()\n",
    "gaussian.fit(X_train, y_train)\n",
    "Y_pred = gaussian.predict(X_test)\n",
    "acc_gaussian = round(gaussian.score(X_train, y_train) * 100, 2)"
   ]
  },
  {
   "cell_type": "code",
   "execution_count": null,
   "metadata": {
    "_cell_guid": "33676b33-5811-4b0a-aa63-eeb79182c4f6",
    "_uuid": "2a89b78f76ab49ed08dc18783c859f8ad9d027e1"
   },
   "outputs": [],
   "source": [
    "# Logistic Regression\n",
    "logreg = LogisticRegression()\n",
    "logreg.fit(X_train, y_train)\n",
    "Y_pred = logreg.predict(X_test)\n",
    "acc_log = round(logreg.score(X_train, y_train) * 100, 2)"
   ]
  },
  {
   "cell_type": "code",
   "execution_count": null,
   "metadata": {
    "_cell_guid": "33676b33-5811-4b0a-aa63-eeb79182c4f6",
    "_uuid": "2a89b78f76ab49ed08dc18783c859f8ad9d027e1"
   },
   "outputs": [],
   "source": [
    "# KNN\n",
    "knn = KNeighborsClassifier(n_neighbors = 3)\n",
    "knn.fit(X_train, y_train)\n",
    "Y_pred = knn.predict(X_test)\n",
    "acc_knn = round(knn.score(X_train, y_train) * 100, 2)"
   ]
  },
  {
   "cell_type": "code",
   "execution_count": null,
   "metadata": {
    "_cell_guid": "33676b33-5811-4b0a-aa63-eeb79182c4f6",
    "_uuid": "2a89b78f76ab49ed08dc18783c859f8ad9d027e1"
   },
   "outputs": [],
   "source": [
    "# Support Vector Machines\n",
    "svc = SVC(probability=True)\n",
    "svc.fit(X_train, y_train)\n",
    "Y_pred = svc.predict(X_test)\n",
    "acc_svc = round(svc.score(X_train, y_train) * 100, 2)"
   ]
  },
  {
   "cell_type": "code",
   "execution_count": null,
   "metadata": {
    "_cell_guid": "33676b33-5811-4b0a-aa63-eeb79182c4f6",
    "_uuid": "2a89b78f76ab49ed08dc18783c859f8ad9d027e1"
   },
   "outputs": [],
   "source": [
    "# Perceptron\n",
    "perceptron = Perceptron()\n",
    "perceptron.fit(X_train, y_train)\n",
    "Y_pred_perceptron = perceptron.predict(X_test)\n",
    "acc_perceptron = round(perceptron.score(X_train, y_train) * 100, 2)"
   ]
  },
  {
   "cell_type": "code",
   "execution_count": null,
   "metadata": {
    "_cell_guid": "68bef82a-971a-4cee-8351-b91f5d5d7689",
    "_kg_hide-input": false,
    "_kg_hide-output": false,
    "_uuid": "baef942a3e7342838698c591fa0e082a5e059596"
   },
   "outputs": [],
   "source": [
    "#Neural Network\n",
    "#Neural Network Structure\n",
    "model = Sequential()\n",
    "\n",
    "model.add(Dense(18, \n",
    "                activation='relu',  \n",
    "                input_dim=20,\n",
    "                kernel_initializer='uniform'))\n",
    "\n",
    "model.add(Dropout(0.2))\n",
    "\n",
    "model.add(Dense(60,\n",
    "                kernel_initializer='uniform',\n",
    "                activation='relu'))\n",
    "\n",
    "model.add(Dropout(0.7))\n",
    "\n",
    "model.add(Dense(1,\n",
    "                kernel_initializer='uniform',\n",
    "                activation='sigmoid'))\n",
    "\n",
    "model.summary()\n",
    "\n",
    "#Neural Network Compile & Fit\n",
    "model.compile(optimizer = Adam(learning_rate=0.001), \n",
    "#model22.compile(optimizer = SGD(lr = 0.01, momentum = 0.9),    \n",
    "                   loss = 'binary_crossentropy', \n",
    "                   metrics = ['accuracy'])\n",
    "\n",
    "pred_NN = model.fit(X_train, y_train, validation_data=(X_test,Y_test),\n",
    "               batch_size = 32, \n",
    "               epochs = 200, verbose=1, use_multiprocessing=True)\n",
    "\n",
    "#Neural Network Score\n",
    "scores = model.evaluate(X_train, y_train, batch_size=25)\n",
    "acc_NN = round(scores[1]*100, 2)"
   ]
  },
  {
   "cell_type": "code",
   "execution_count": null,
   "metadata": {
    "_cell_guid": "68bef82a-971a-4cee-8351-b91f5d5d7689",
    "_kg_hide-input": false,
    "_kg_hide-output": false,
    "_uuid": "baef942a3e7342838698c591fa0e082a5e059596"
   },
   "outputs": [],
   "source": [
    "ann_viz(model, title=\"Neural Network\")"
   ]
  },
  {
   "cell_type": "code",
   "execution_count": null,
   "metadata": {
    "_cell_guid": "5eb9a2b2-96b6-4da9-9f5c-c76e661daf78",
    "_uuid": "065a617bcfd50e11f9f4eb5832163def96111ca2"
   },
   "outputs": [],
   "source": [
    "fig, ax_arr = plt.subplots(nrows = 4, ncols = 2, figsize = (15,20))\n",
    "\n",
    "#DT\n",
    "probs = decision_tree.predict_proba(X_test)\n",
    "preds_tree = probs[:,1]\n",
    "fprdtree, tprdtree, thresholddtree = roc_curve(Y_test, preds_tree)\n",
    "roc_aucdtree = auc(fprdtree, tprdtree)\n",
    "\n",
    "ax_arr[0,0].plot(fprdtree, tprdtree, 'b', label = 'AUC = %0.2f' % roc_aucdtree)\n",
    "ax_arr[0,0].plot([0, 1], [0, 1],'r--')\n",
    "ax_arr[0,0].set_title('ROC Decision Tree ',fontsize=20)\n",
    "ax_arr[0,0].set_ylabel('True Positive Rate',fontsize=20)\n",
    "ax_arr[0,0].set_xlabel('False Positive Rate',fontsize=15)\n",
    "ax_arr[0,0].legend(loc = 'lower right', prop={'size': 16})\n",
    "\n",
    "#NB\n",
    "probs = gaussian.predict_proba(X_test)\n",
    "preds_NB = probs[:,1]\n",
    "fprNB, tprNB, thresholdNB = roc_curve(Y_test, preds_NB)\n",
    "roc_aucNB = auc(fprNB, tprNB)\n",
    "\n",
    "ax_arr[0,1].plot(fprNB, tprNB, 'b', label = 'AUC = %0.2f' % roc_aucNB)\n",
    "ax_arr[0,1].plot([0, 1], [0, 1],'r--')\n",
    "ax_arr[0,1].set_title('ROC Gaussian Naive Bayes ',fontsize=20)\n",
    "ax_arr[0,1].set_ylabel('True Positive Rate',fontsize=20)\n",
    "ax_arr[0,1].set_xlabel('False Positive Rate',fontsize=15)\n",
    "ax_arr[0,1].legend(loc = 'lower right', prop={'size': 16})\n",
    "\n",
    "#LReg\n",
    "probs = logreg.predict_proba(X_test)\n",
    "preds_logreg = probs[:,1]\n",
    "fprlogreg, tprlogreg, thresholdlogreg = roc_curve(Y_test, preds_logreg)\n",
    "roc_auclogreg = auc(fprlogreg, tprlogreg)\n",
    "\n",
    "ax_arr[1,0].plot(fprlogreg, tprlogreg, 'b', label = 'AUC = %0.2f' % roc_auclogreg)\n",
    "ax_arr[1,0].plot([0, 1], [0, 1],'r--')\n",
    "ax_arr[1,0].set_title('ROC Logistic Regression ',fontsize=20)\n",
    "ax_arr[1,0].set_ylabel('True Positive Rate',fontsize=20)\n",
    "ax_arr[1,0].set_xlabel('False Positive Rate',fontsize=15)\n",
    "ax_arr[1,0].legend(loc = 'lower right', prop={'size': 16})\n",
    "\n",
    "#KNN\n",
    "probs = knn.predict_proba(X_test)\n",
    "preds_KNN = probs[:,1]\n",
    "fprkNN, tprkNN, thresholdkNN = roc_curve(Y_test, preds_KNN)\n",
    "roc_auckNN = auc(fprkNN, tprkNN)\n",
    "\n",
    "ax_arr[1,1].plot(fprkNN, tprkNN, 'b', label = 'AUC = %0.2f' % roc_auckNN)\n",
    "ax_arr[1,1].plot([0, 1], [0, 1],'r--')\n",
    "ax_arr[1,1].set_title('ROC k-Nearest Neighbors ',fontsize=20)\n",
    "ax_arr[1,1].set_ylabel('True Positive Rate',fontsize=20)\n",
    "ax_arr[1,1].set_xlabel('False Positive Rate',fontsize=15)\n",
    "ax_arr[1,1].legend(loc = 'lower right', prop={'size': 16})\n",
    "\n",
    "#SVC\n",
    "probs = svc.predict_proba(X_test)\n",
    "preds_SVC = probs[:,1]\n",
    "fprsvc, tprsvc, thresholdsvc = roc_curve(Y_test, preds_SVC)\n",
    "roc_aucsvc = auc(fprsvc, tprsvc)\n",
    "\n",
    "ax_arr[2,0].plot(fprsvc, tprsvc, 'b', label = 'AUC = %0.2f' % roc_aucsvc)\n",
    "ax_arr[2,0].plot([0, 1], [0, 1],'r--')\n",
    "ax_arr[2,0].set_title('ROC Support Vector Machine',fontsize=20)\n",
    "ax_arr[2,0].set_ylabel('True Positive Rate',fontsize=20)\n",
    "ax_arr[2,0].set_xlabel('False Positive Rate',fontsize=15)\n",
    "ax_arr[2,0].legend(loc = 'lower right', prop={'size': 16})\n",
    "\n",
    "\n",
    "#Perceptron\n",
    "probs = perceptron.decision_function(X_test)\n",
    "preds_prtn = probs\n",
    "fprprtn, tprprtn, thresholdprtn = roc_curve(Y_test, preds_prtn)\n",
    "roc_aucprtn = auc(fprprtn, tprprtn)\n",
    "\n",
    "ax_arr[2,1].plot(fprprtn, tprprtn, 'b', label = 'AUC = %0.2f' % roc_aucprtn)\n",
    "ax_arr[2,1].plot([0, 1], [0, 1],'r--')\n",
    "ax_arr[2,1].set_title('ROC Perceptron ',fontsize=20)\n",
    "ax_arr[2,1].set_ylabel('True Positive Rate',fontsize=20)\n",
    "ax_arr[2,1].set_xlabel('False Positive Rate',fontsize=15)\n",
    "ax_arr[2,1].legend(loc = 'lower right', prop={'size': 16})\n",
    "\n",
    "\n",
    "#NN\n",
    "probs = model.predict_proba(X_test)\n",
    "preds_NN = probs\n",
    "fprNN, tprNN, thresholdNN = roc_curve(Y_test, preds_NN)\n",
    "roc_aucNN = auc(fprNN, tprNN)\n",
    "\n",
    "ax_arr[3,0].plot(fprNN, tprNN, 'b', label = 'AUC = %0.2f' % roc_aucNN)\n",
    "ax_arr[3,0].plot([0, 1], [0, 1],'r--')\n",
    "ax_arr[3,0].set_title('ROC Neural Network ',fontsize=20)\n",
    "ax_arr[3,0].set_ylabel('True Positive Rate',fontsize=20)\n",
    "ax_arr[3,0].set_xlabel('False Positive Rate',fontsize=15)\n",
    "ax_arr[3,0].legend(loc = 'lower right', prop={'size': 16})\n",
    "\n",
    "#ALL\n",
    "ax_arr[3,1].plot(fprdtree, tprdtree, 'b', label = 'Decision Tree', color='black')\n",
    "ax_arr[3,1].plot(fprNB, tprNB, 'b', label = 'Gaussian Naive Bayes', color='blue')\n",
    "ax_arr[3,1].plot(fprlogreg, tprlogreg, 'b', label = 'Logistic Regression', color='brown')\n",
    "ax_arr[3,1].plot(fprkNN, tprkNN, 'b', label = 'k-Nearest Neighbors', color='green')\n",
    "ax_arr[3,1].plot(fprsvc, tprsvc, 'b', label = 'Support Vector Machine', color='grey')\n",
    "ax_arr[3,1].plot(fprprtn, tprprtn, 'b', label = 'Perceptron', color='red')\n",
    "ax_arr[3,1].plot(fprNN, tprNN, 'b', label = 'Neural Network', color='orange')\n",
    "ax_arr[3,1].set_title('ROC ',fontsize=20)\n",
    "ax_arr[3,1].set_ylabel('True Positive Rate',fontsize=20)\n",
    "ax_arr[3,1].set_xlabel('False Positive Rate',fontsize=15)\n",
    "ax_arr[3,1].legend(loc = 'lower right', prop={'size': 16})\n",
    "\n",
    "plt.subplots_adjust(wspace=0.2)\n",
    "plt.tight_layout() "
   ]
  },
  {
   "cell_type": "code",
   "execution_count": null,
   "metadata": {
    "_cell_guid": "68bef82a-971a-4cee-8351-b91f5d5d7689",
    "_kg_hide-input": false,
    "_kg_hide-output": false,
    "_uuid": "baef942a3e7342838698c591fa0e082a5e059596",
    "scrolled": false
   },
   "outputs": [],
   "source": [
    "fig, ax_arr = plt.subplots(nrows = 4, ncols = 2, figsize = (15,20))\n",
    "\n",
    "#DT\n",
    "prdtree, redtree, thsld_tree = precision_recall_curve(Y_test, preds_tree)\n",
    "pr_aucdtree = auc(redtree, prdtree)\n",
    "\n",
    "ax_arr[0,0].plot(prdtree, redtree, 'b', label = 'AUC = %0.2f' % pr_aucdtree)\n",
    "ax_arr[0,0].set_title('PR Decision ',fontsize=20)\n",
    "ax_arr[0,0].set_ylabel('Precision',fontsize=20)\n",
    "ax_arr[0,0].set_xlabel('Recall',fontsize=15)\n",
    "ax_arr[0,0].legend(loc = 'lower left', prop={'size': 16})\n",
    "\n",
    "#NB\n",
    "prNB, reNB, thsld_NB = precision_recall_curve(Y_test, preds_NB)\n",
    "pr_aucNB = auc(reNB, prNB)\n",
    "\n",
    "ax_arr[0,1].plot(prNB, reNB, 'b', label = 'AUC = %0.2f' % pr_aucNB)\n",
    "ax_arr[0,1].set_title('PR Gaussian Naive Bayes ',fontsize=20)\n",
    "ax_arr[0,1].set_ylabel('Precision',fontsize=20)\n",
    "ax_arr[0,1].set_xlabel('Recall',fontsize=15)\n",
    "ax_arr[0,1].legend(loc = 'lower left', prop={'size': 16})\n",
    "\n",
    "#LReg\n",
    "prlogreg, relogreg, thsld_logreg = precision_recall_curve(Y_test, preds_logreg)\n",
    "pr_auclogreg = auc(relogreg, prlogreg)\n",
    "\n",
    "ax_arr[1,0].plot(prlogreg, relogreg, 'b', label = 'AUC = %0.2f' % pr_auclogreg)\n",
    "ax_arr[1,0].set_title('PR Logistic Regression ',fontsize=20)\n",
    "ax_arr[1,0].set_ylabel('Precision',fontsize=20)\n",
    "ax_arr[1,0].set_xlabel('Recall',fontsize=15)\n",
    "ax_arr[1,0].legend(loc = 'lower left', prop={'size': 16})\n",
    "\n",
    "#KNN\n",
    "prkNN, rekNN, thsld_kNN = precision_recall_curve(Y_test, preds_KNN)\n",
    "pr_auckNN = auc(rekNN, prkNN)\n",
    "\n",
    "ax_arr[1,1].plot(prkNN, rekNN, 'b', label = 'AUC = %0.2f' % pr_auckNN)\n",
    "ax_arr[1,1].set_title('PR k-Nearest Neighbors ',fontsize=20)\n",
    "ax_arr[1,1].set_ylabel('Precision',fontsize=20)\n",
    "ax_arr[1,1].set_xlabel('Recall',fontsize=15)\n",
    "ax_arr[1,1].legend(loc = 'lower left', prop={'size': 16})\n",
    "\n",
    "#SVC\n",
    "prsvc, resvc, thsld_SVC = precision_recall_curve(Y_test, preds_SVC)\n",
    "pr_aucSVC = auc(resvc, prsvc)\n",
    "\n",
    "ax_arr[2,0].plot(prsvc, resvc, 'b', label = 'AUC = %0.2f' % pr_aucSVC)\n",
    "ax_arr[2,0].set_title('PR Support Vector Machine',fontsize=20)\n",
    "ax_arr[2,0].set_ylabel('Precision',fontsize=20)\n",
    "ax_arr[2,0].set_xlabel('Recall',fontsize=15)\n",
    "ax_arr[2,0].legend(loc = 'lower left', prop={'size': 16})\n",
    "\n",
    "\n",
    "#Perceptron\n",
    "prprtn, reprtn, thsld_prtn = precision_recall_curve(Y_test, preds_prtn)\n",
    "pr_aucprtn = auc(reprtn, prprtn)\n",
    "\n",
    "ax_arr[2,1].plot(prprtn, reprtn, 'b', label = 'AUC = %0.2f' % pr_aucprtn)\n",
    "ax_arr[2,1].set_title('PR Perceptron ',fontsize=20)\n",
    "ax_arr[2,1].set_ylabel('Precision',fontsize=20)\n",
    "ax_arr[2,1].set_xlabel('Recall',fontsize=15)\n",
    "ax_arr[2,1].legend(loc = 'lower left', prop={'size': 16})\n",
    "\n",
    "\n",
    "#NN\n",
    "prNN, reNN, thsld_NN = precision_recall_curve(Y_test, preds_NN)\n",
    "pr_aucNN = auc(reNN, prNN)\n",
    "\n",
    "ax_arr[3,0].plot(prNN, reNN, 'b', label = 'AUC = %0.2f' % pr_aucNN)\n",
    "ax_arr[3,0].set_title('PR Neural Network ',fontsize=20)\n",
    "ax_arr[3,0].set_ylabel('Precision',fontsize=20)\n",
    "ax_arr[3,0].set_xlabel('Recall',fontsize=15)\n",
    "ax_arr[3,0].legend(loc = 'lower left', prop={'size': 16})\n",
    "\n",
    "#ALL\n",
    "ax_arr[3,1].plot(prdtree, redtree, 'b', label = 'Decision Tree', color='black')\n",
    "ax_arr[3,1].plot(prNB, reNB, 'b', label = 'Gaussian Naive Bayes', color='blue')\n",
    "ax_arr[3,1].plot(prlogreg, relogreg, 'b', label = 'Logistic Regression', color='brown')\n",
    "ax_arr[3,1].plot(prkNN, rekNN, 'b', label = 'k-Nearest Neighbors', color='green')\n",
    "ax_arr[3,1].plot(prsvc, resvc, 'b', label = 'Support Vector Machine', color='grey')\n",
    "ax_arr[3,1].plot(prprtn, reprtn, 'b', label = 'Perceptron', color='red')\n",
    "ax_arr[3,1].plot(prNN, reNN, 'b', label = 'Neural Network', color='orange')\n",
    "ax_arr[3,1].set_title('PR ',fontsize=20)\n",
    "ax_arr[3,1].set_ylabel('Precision',fontsize=20)\n",
    "ax_arr[3,1].set_xlabel('Recall',fontsize=15)\n",
    "ax_arr[3,1].legend(loc = 'lower left', prop={'size': 16})\n",
    "\n",
    "plt.subplots_adjust(wspace=0.2)\n",
    "plt.tight_layout() "
   ]
  },
  {
   "cell_type": "code",
   "execution_count": null,
   "metadata": {
    "_cell_guid": "4f21c6de-73fd-4cd9-8bed-296fcfeaa449",
    "_uuid": "1d16d3b6dd4c15b2263c01a1f148e14610ec3a65"
   },
   "outputs": [],
   "source": [
    "plt.plot(pred_NN.history['accuracy'])\n",
    "plt.plot(pred_NN.history['val_accuracy'])\n",
    "plt.title('Model Accuracy')\n",
    "plt.ylabel('Accuracy')\n",
    "plt.xlabel('Epoch')\n",
    "plt.legend(['train', 'test'], loc='upper left')\n",
    "plt.show()\n"
   ]
  },
  {
   "cell_type": "code",
   "execution_count": null,
   "metadata": {
    "_cell_guid": "1ca2b7d5-6eb7-4eee-8a42-e11db6866a69",
    "_uuid": "ee846c160eb2f86a86903f9e2fe167aa5c2ba12b"
   },
   "outputs": [],
   "source": [
    "plt.plot(pred_NN.history['loss'])\n",
    "plt.plot(pred_NN.history['val_loss'])\n",
    "plt.title('Model loss')\n",
    "plt.ylabel('Loss')\n",
    "plt.xlabel('Epoch')\n",
    "plt.legend(['train', 'test'], loc='upper left')\n",
    "plt.show()"
   ]
  },
  {
   "cell_type": "code",
   "execution_count": null,
   "metadata": {
    "_cell_guid": "68bef82a-971a-4cee-8351-b91f5d5d7689",
    "_kg_hide-input": false,
    "_kg_hide-output": false,
    "_uuid": "baef942a3e7342838698c591fa0e082a5e059596",
    "scrolled": false
   },
   "outputs": [],
   "source": [
    "models = pd.DataFrame({\n",
    "    'Model': ['SVM', 'KNN', 'Logistic Regression', \n",
    "              'Naive Bayes', 'Perceptron', 'Decision Tree', 'Neural Network'],\n",
    "    'Score by Accuracy %': [acc_svc, acc_knn, acc_log, \n",
    "              acc_gaussian, acc_perceptron, \n",
    "              acc_decision_tree, acc_NN]})\n",
    "sorted_score = models.sort_values(by='Score by Accuracy %', ascending=False)\n",
    "print(sorted_score)\n",
    "\n",
    "plt.figure(figsize=(12,5))\n",
    "\n",
    "g = sns.factorplot(x=\"Model\",y=\"Score by Accuracy %\",data=sorted_score,\n",
    "                   kind=\"bar\", height = 5, aspect= 1.8, palette = \"hls\", hue=\"Score by Accuracy %\", dodge=False)\n",
    "g.set_ylabels(\"Score by Accuracy %\", fontsize=15)\n",
    "g.set_xlabels(\"Model\", fontsize=15)\n",
    "\n",
    "plt.show()"
   ]
  }
 ],
 "metadata": {
  "kernelspec": {
   "display_name": "Python 3",
   "language": "python",
   "name": "python3"
  },
  "language_info": {
   "codemirror_mode": {
    "name": "ipython",
    "version": 3
   },
   "file_extension": ".py",
   "mimetype": "text/x-python",
   "name": "python",
   "nbconvert_exporter": "python",
   "pygments_lexer": "ipython3",
   "version": "3.8.8"
  }
 },
 "nbformat": 4,
 "nbformat_minor": 1
}
